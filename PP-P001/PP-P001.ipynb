{
 "cells": [
  {
   "cell_type": "markdown",
   "id": "b24cdffe",
   "metadata": {},
   "source": [
    "#### Exercício 1: Crie um repositório para as atividades deste módulo.\n",
    "\n",
    "● A sua equipe deve criar um repositório no GitHub que será utilizado para\n",
    "todas as atividades deste módulo. O repositório deve conter:\n",
    "○ Um README descrevendo as informações dos membros da equipe\n",
    "(nome e e-mail) assim como a descrição da estruturação do\n",
    "repositório ( que tem em cada pasta). Este README deve ser feito\n",
    "utilizando Markdown e ser atualizado a cada semana.\n",
    "○ Uma pasta para cada Instrução prática. As pastas serão criadas na\n",
    "medida que as Instruções Práticas sejam passadas.\n",
    "\n",
    "○ O professor deve ser incluído como colaborador no repositório\n",
    "(usuário GitHub - etvorellana)\n",
    "\n",
    "○ A pasta desta Instrução Prática deve conter um Jupyter Notebook com\n",
    "as respostas de cada um dos exercícios.\n",
    "\n",
    "○ Cada membro da equipe deve ter uma pasta no repositório. Se\n",
    "recomenda também a utilização de um branch para cada\n",
    "desenvolvedor, independentemente de serem definidos branch para\n",
    "atividades específicas.\n",
    "\n",
    "● Publicar no moodle o endereço do repositório e o branch específico em que\n",
    "está desenvolvendo suas atividades."
   ]
  },
  {
   "cell_type": "markdown",
   "id": "cfdfed81",
   "metadata": {},
   "source": [
    "Prática da questão 1: https://github.com/codedanilo/Python/tree/main/PP-P001"
   ]
  },
  {
   "cell_type": "markdown",
   "id": "9e5773c9",
   "metadata": {},
   "source": [
    "#### Exercício 2\n",
    "\n",
    "#### ----------------------------------------------------------------------------------------\n",
    "\n",
    "# Operadores Aritméticos em Python:\n",
    "\n",
    "#### ----------------------------------------------------------------------------------------\n",
    "\n",
    "#### Adição (+):\n",
    "Em Python, o operador '+' é usado para adição de números, mas também para concatenar strings e sequências.\n",
    "\n",
    "#### Subtração (-):\n",
    "Realiza a subtração entre dois números.\n",
    "\n",
    "#### Multiplicação (*):\n",
    "Realiza a multiplicação de números ou a repetição de strings ou sequências.\n",
    "\n",
    "#### Divisão (/):\n",
    "A divisão em Python (/) sempre retorna um número de ponto flutuante, mesmo que a divisão seja entre inteiros.\n",
    "\n",
    "#### Divisão Inteira (//):\n",
    "Retorna a parte inteira do resultado da divisão, descartando a parte fracionária.\n",
    "\n",
    "#### Módulo (%):\n",
    "Retorna o resto da divisão entre dois números.\n",
    "\n",
    "Exponenciação ( ou pow())**\n",
    "Realiza a exponenciação de um número pelo outro.\n",
    "\n",
    "#### ------------------------------------------------------------------------------------------------------------------\n",
    "\n",
    "# Operadores Aritméticos Compostos em Python:\n",
    "\n",
    "#### ------------------------------------------------------------------------------------------------------------------\n",
    "\n",
    "#### Adição Incrementada (+=):\n",
    "x += y é o mesmo que x = x + y.\n",
    "\n",
    "#### Subtração Incrementada (-=):\n",
    "x -= y é o mesmo que x = x - y.\n",
    "\n",
    "#### Multiplicação Incrementada (*=):\n",
    "x *= y é o mesmo que x = x * y.\n",
    "\n",
    "#### Divisão Incrementada (/=):\n",
    "x /= y é o mesmo que x = x / y.\n",
    "\n",
    "#### Divisão Inteira Incrementada (//=):\n",
    "x //= y é o mesmo que x = x // y.\n",
    "\n",
    "#### Módulo Incrementado (%=):\n",
    "x %= y é o mesmo que x = x % y.\n",
    "\n",
    "#### -----------------------------------------------------------------------------------------------------------------------------------\n",
    "\n",
    "# Python oferece alguns diferenciais em relação a C/C++:\n",
    "\n",
    "#### -----------------------------------------------------------------------------------------------------------------------------------\n",
    "\n",
    "## Tipagem dinâmica:\n",
    "\n",
    "Em Python, não é necessário especificar o tipo de variável ao realizar operações aritméticas. Isso difere do C/C++, onde a tipagem é estática e as variáveis têm tipos fixos.\n",
    "\n",
    "#### Divisão como ponto flutuante padrão:\n",
    "Em Python 3, o operador de divisão (/) sempre retorna um resultado de ponto flutuante, enquanto em C/C++, o tipo do resultado depende dos tipos dos operandos.\n",
    "\n",
    "#### Conversão automática de tipos:\n",
    "Em Python, há mais flexibilidade na operação entre diferentes tipos de variáveis, enquanto em C/C++ pode ser necessário fazer conversões explícitas.\n",
    "\n",
    "#### Operador de exponenciação **\n",
    "Python possui um operador específico para exponenciação, enquanto em C/C++, normalmente é usado pow() ou funções semelhantes para calcular potências.\n",
    "No geral, embora os operadores aritméticos em Python sigam princípios semelhantes aos de C/C++, as diferenças fundamentais em tipagem, tratamento de tipos e algumas operações específicas tornam Python mais flexível em certos aspectos."
   ]
  },
  {
   "cell_type": "markdown",
   "id": "ccc5386c",
   "metadata": {},
   "source": [
    "### Exercício 3: Manipulação de variáveis de tipo string e explorando o uso de print.\n",
    "● Os caracteres numéricos aparecem na tabela ASCII, e em outras, numa\n",
    "sequência que começa pelo caractere ‘0’ até o caractere ‘9’. As strings em\n",
    "Python são formadas por conjuntos de caracteres que podem ser tratadas\n",
    "também como valores numéricos. Com base nestas afirmações desenvolva\n",
    "um programa em Python que:\n",
    "○ Imprima na tela, utilizando print, cada um dos caracteres numéricos e\n",
    "seu correspondente código numérico. Pesquise como modificar o\n",
    "comportamento do print para imprimir como caractere e como\n",
    "número.\n",
    "Exemplo:‘0’ - 48\n",
    "‘1’ - 49\n",
    "…\n",
    "‘9’ - 57"
   ]
  },
  {
   "cell_type": "code",
   "execution_count": 1,
   "id": "e1db5b7c",
   "metadata": {
    "scrolled": true
   },
   "outputs": [
    {
     "name": "stdout",
     "output_type": "stream",
     "text": [
      "'0' - 48\n",
      "'1' - 49\n",
      "'2' - 50\n",
      "'3' - 51\n",
      "'4' - 52\n",
      "'5' - 53\n",
      "'6' - 54\n",
      "'7' - 55\n",
      "'8' - 56\n",
      "'9' - 57\n"
     ]
    }
   ],
   "source": [
    "for i in range(10):\n",
    "    char = chr(ord('0') + i)\n",
    "    \n",
    "    print(f\"'{char}' - {ord(char)}\")\n"
   ]
  },
  {
   "cell_type": "markdown",
   "id": "2ce4e42f",
   "metadata": {},
   "source": [
    "*Modifique o exercício anterior para que a saída imprima também o\n",
    "código numérico em octal e em hexadecimal."
   ]
  },
  {
   "cell_type": "code",
   "execution_count": 2,
   "id": "abab3c05",
   "metadata": {},
   "outputs": [
    {
     "name": "stdout",
     "output_type": "stream",
     "text": [
      "'0' - Decimal: 48, Octal: 0o60, Hexadecimal: 0x30\n",
      "'1' - Decimal: 49, Octal: 0o61, Hexadecimal: 0x31\n",
      "'2' - Decimal: 50, Octal: 0o62, Hexadecimal: 0x32\n",
      "'3' - Decimal: 51, Octal: 0o63, Hexadecimal: 0x33\n",
      "'4' - Decimal: 52, Octal: 0o64, Hexadecimal: 0x34\n",
      "'5' - Decimal: 53, Octal: 0o65, Hexadecimal: 0x35\n",
      "'6' - Decimal: 54, Octal: 0o66, Hexadecimal: 0x36\n",
      "'7' - Decimal: 55, Octal: 0o67, Hexadecimal: 0x37\n",
      "'8' - Decimal: 56, Octal: 0o70, Hexadecimal: 0x38\n",
      "'9' - Decimal: 57, Octal: 0o71, Hexadecimal: 0x39\n"
     ]
    }
   ],
   "source": [
    "for i in range(10):\n",
    "    \n",
    "    char = chr(ord('0') + i)\n",
    "    \n",
    "    print(f\"'{char}' - Decimal: {ord(char)}, Octal: {oct(ord(char))}, Hexadecimal: {hex(ord(char))}\")\n"
   ]
  },
  {
   "cell_type": "markdown",
   "id": "d5808022",
   "metadata": {},
   "source": [
    "*Acrescente ao código do exercício anterior a possibilidade de ler um\n",
    "caractere qualquer e imprima no mesmo formato do inciso anterior.\n",
    "Pesquise como ler um valor da entrada padrão.\n",
    "\n"
   ]
  },
  {
   "cell_type": "code",
   "execution_count": 4,
   "id": "e9b89764",
   "metadata": {},
   "outputs": [
    {
     "name": "stdout",
     "output_type": "stream",
     "text": [
      "Digite um caractere: p\n",
      "'p' - Decimal: 112, Octal: 0o160, Hexadecimal: 0x70\n"
     ]
    }
   ],
   "source": [
    "input_char = input(\"Digite um caractere: \")\n",
    "\n",
    "if len(input_char) == 1:\n",
    "    \n",
    "    char_code = ord(input_char)\n",
    "\n",
    "    print(f\"'{input_char}' - Decimal: {char_code}, Octal: {oct(char_code)}, Hexadecimal: {hex(char_code)}\")\n",
    "else:\n",
    "    print(\"Por favor, digite apenas um caractere.\")\n"
   ]
  },
  {
   "cell_type": "markdown",
   "id": "c64a9a90",
   "metadata": {},
   "source": [
    "*○ Pesquise como trabalha Python os caracteres especiais, ‘ç’ e ‘ã’\n",
    "por exemplo. Acrescente no código do exercício anterior um exemplo\n",
    "que demonstra como usar este recurso."
   ]
  },
  {
   "cell_type": "code",
   "execution_count": 6,
   "id": "f84aab48",
   "metadata": {},
   "outputs": [
    {
     "name": "stdout",
     "output_type": "stream",
     "text": [
      "Digite um caractere: j\n",
      "'j' - Decimal: 106, Octal: 0o152, Hexadecimal: 0x6a\n",
      "'ç' - Decimal: 231, Octal: 0o347, Hexadecimal: 0xe7\n",
      "'ã' - Decimal: 227, Octal: 0o343, Hexadecimal: 0xe3\n"
     ]
    }
   ],
   "source": [
    "input_char = input(\"Digite um caractere: \")\n",
    "\n",
    "if len(input_char) == 1:\n",
    "   \n",
    "    char_code = ord(input_char)\n",
    "\n",
    "  \n",
    "    print(f\"'{input_char}' - Decimal: {char_code}, Octal: {oct(char_code)}, Hexadecimal: {hex(char_code)}\")\n",
    "\n",
    "    special_chars = ['ç', 'ã']\n",
    "\n",
    "    for char in special_chars:\n",
    "        print(f\"'{char}' - Decimal: {ord(char)}, Octal: {oct(ord(char))}, Hexadecimal: {hex(ord(char))}\")\n",
    "else:\n",
    "    print(\"Por favor, digite apenas um caractere.\")\n"
   ]
  },
  {
   "cell_type": "markdown",
   "id": "4e56fdbc",
   "metadata": {},
   "source": [
    "### Exercício 4: Manipulação de variáveis de tipo string e explorando os métodos da classe.\n",
    "\n",
    "● As variáveis de tipo string possuem uma série de funcionalidades já\n",
    "implementadas e seus caracteres e substrings podem ser acessados usando\n",
    "indexação e slicing. Crie um exemplo onde:\n",
    "\n",
    "○ Declare uma variável nome atribuindo a ela seu nome completo;\n",
    "\n",
    "○ Pesquise por funcionalidades já implementadas nas strings e separe\n",
    "em duas variáveis novas seu nome do seu sobrenome;\n",
    "\n",
    "○ Verifique qual das duas novas variáveis antecede a outra na ordem\n",
    "alfabética;\n",
    "\n",
    "○ Verifique a quantidade de caracteres de cada uma das novas variáveis;\n",
    "\n",
    "○ Verifique se seu nome é uma palíndromo;"
   ]
  },
  {
   "cell_type": "code",
   "execution_count": 9,
   "id": "44d20c95",
   "metadata": {},
   "outputs": [
    {
     "name": "stdout",
     "output_type": "stream",
     "text": [
      "Marques antecede Paulo na ordem alfabética.\n",
      "Quantidade de caracteres no nome: 5\n",
      "Quantidade de caracteres no sobrenome: 7\n",
      "Paulo não é um palíndromo.\n"
     ]
    }
   ],
   "source": [
    "nome_completo = \"Paulo Marques\"\n",
    "\n",
    "nome, sobrenome = nome_completo.split()\n",
    "\n",
    "if nome < sobrenome:\n",
    "    print(f\"{nome} antecede {sobrenome} na ordem alfabética.\")\n",
    "else:\n",
    "    print(f\"{sobrenome} antecede {nome} na ordem alfabética.\")\n",
    "\n",
    "\n",
    "print(f\"Quantidade de caracteres no nome: {len(nome)}\")\n",
    "print(f\"Quantidade de caracteres no sobrenome: {len(sobrenome)}\")\n",
    "\n",
    "\n",
    "if nome == nome[::-1]:\n",
    "    print(f\"{nome} é um palíndromo.\")\n",
    "else:\n",
    "    print(f\"{nome} não é um palíndromo.\")\n"
   ]
  },
  {
   "cell_type": "markdown",
   "id": "47c9ef52",
   "metadata": {},
   "source": [
    "### Exercício 5: Manipulação de variáveis de ponto flutuante, explorando as características e os limites.\n",
    "\n",
    "○ Durante a aula foi apresentado o tipo de dado que permite representar um\n",
    "subconjunto dos números de ponto flutuante. Sobre estes tipos de dados:\n",
    "\n",
    "○ Demonstre como funcionam os operadores aritméticos e aritméticos\n",
    "compostos em Python;\n",
    "\n",
    "○ Utilizando o operador de exponenciação mostre qual a maior e a\n",
    "menor potência de 2 que pode ser representada com variáveis de\n",
    "ponto flutuante.\n",
    "\n",
    "○ As variáveis numéricas são imutáveis. Demonstre com exemplos as\n",
    "implicações desta afirmação;\n",
    "\n",
    "○ Verifique quais métodos estão disponíveis para as variáveis de ponto\n",
    "flutuante;"
   ]
  },
  {
   "cell_type": "code",
   "execution_count": 10,
   "id": "320f5405",
   "metadata": {},
   "outputs": [
    {
     "name": "stdout",
     "output_type": "stream",
     "text": [
      "Soma: 7.0\n",
      "Subtração: 3.0\n",
      "Multiplicação: 10.0\n",
      "Divisão: 2.5\n",
      "Resto: 1.0\n",
      "Depois da operação composta - a: 7.0, b: 6.0\n"
     ]
    }
   ],
   "source": [
    "# Operadores aritméticos\n",
    "a = 5.0\n",
    "b = 2.0\n",
    "\n",
    "soma = a + b\n",
    "subtracao = a - b\n",
    "multiplicacao = a * b\n",
    "divisao = a / b\n",
    "resto = a % b\n",
    "\n",
    "print(f\"Soma: {soma}\")\n",
    "print(f\"Subtração: {subtracao}\")\n",
    "print(f\"Multiplicação: {multiplicacao}\")\n",
    "print(f\"Divisão: {divisao}\")\n",
    "print(f\"Resto: {resto}\")\n",
    "\n",
    "# Operadores aritméticos compostos\n",
    "a += 2\n",
    "b *= 3\n",
    "\n",
    "print(f\"Depois da operação composta - a: {a}, b: {b}\")\n"
   ]
  },
  {
   "cell_type": "code",
   "execution_count": null,
   "id": "46529742",
   "metadata": {},
   "outputs": [],
   "source": [
    "# Maior e menor potência de 2 representável\n",
    "maior_potencia = 2.0 ** 1023\n",
    "menor_potencia = 2.0 ** -1022\n",
    "\n",
    "print(f\"Maior potência de 2 representável: {maior_potencia}\")\n",
    "print(f\"Menor potência de 2 representável: {menor_potencia}\")\n"
   ]
  },
  {
   "cell_type": "code",
   "execution_count": 11,
   "id": "c3efabcc",
   "metadata": {},
   "outputs": [
    {
     "name": "stdout",
     "output_type": "stream",
     "text": [
      "Antes da modificação: 10.0\n",
      "Depois da modificação: 5.0\n"
     ]
    }
   ],
   "source": [
    "num = 10.0\n",
    "print(\"Antes da modificação:\", num)\n",
    "\n",
    "# num[0] = 5\n",
    "\n",
    "num = 5.0\n",
    "print(\"Depois da modificação:\", num)\n"
   ]
  },
  {
   "cell_type": "code",
   "execution_count": 12,
   "id": "6542ffa5",
   "metadata": {},
   "outputs": [
    {
     "name": "stdout",
     "output_type": "stream",
     "text": [
      "Valor absoluto: 3.14\n",
      "Arredonda para baixo: 3\n",
      "Arredonda para cima: 4\n",
      "Parte inteira: 3\n",
      "Arredonda para o número mais próximo: 3\n"
     ]
    }
   ],
   "source": [
    "num = 3.14\n",
    "\n",
    "# Exemplo de alguns métodos disponíveis\n",
    "print(\"Valor absoluto:\", abs(num))\n",
    "print(\"Arredonda para baixo:\", num.__floor__())\n",
    "print(\"Arredonda para cima:\", num.__ceil__())\n",
    "print(\"Parte inteira:\", num.__int__())\n",
    "print(\"Arredonda para o número mais próximo:\", round(num))\n"
   ]
  },
  {
   "cell_type": "markdown",
   "id": "6ef194ed",
   "metadata": {},
   "source": [
    "#### Exercício 6: Manipulando listas"
   ]
  },
  {
   "cell_type": "code",
   "execution_count": 16,
   "id": "5f82fe5e",
   "metadata": {},
   "outputs": [
    {
     "name": "stdout",
     "output_type": "stream",
     "text": [
      "[9, 8, 7, 6, 5, 4, 3, 2, 1]\n",
      "[9]\n",
      "[1, 2, 3, 4, 5, 6, 7, 8]\n",
      "[9, 7, 5, 3, 1]\n",
      "[8, 9]\n",
      "[1, 2, 3, 4, 5, 6, 7]\n"
     ]
    }
   ],
   "source": [
    "# ● Dado o seguinte código, e antes de implementar, veja o que será impresso em cada caso:\n",
    "\n",
    "L = [1,2,3,4,5,6,7,8,9]\n",
    "print(L[::-1])\n",
    "print(L[-1::])\n",
    "print(L[:-1:])\n",
    "print(L[::-2])\n",
    "print(L[-2::])\n",
    "print(L[:-2:])\n"
   ]
  },
  {
   "cell_type": "code",
   "execution_count": 17,
   "id": "5b688978",
   "metadata": {},
   "outputs": [
    {
     "name": "stdout",
     "output_type": "stream",
     "text": [
      "Digite o ano do seu nascimento: 1986\n",
      "Seu signo do zodíaco chinês é: Tigre\n"
     ]
    }
   ],
   "source": [
    "# ● Uma forma simplificada de determinar o seu animal no zodiaco chines é apresentada na seguinte tabela:\n",
    "# Descubra qual o signo de um usuário de acordo com seu ano de nascimento.\n",
    "\n",
    "ano_nascimento = int(input(\"Digite o ano do seu nascimento: \"))\n",
    "\n",
    "ano_base = 1924 \n",
    "ciclo_zodiaco_chines = (ano_nascimento - ano_base) % 12\n",
    "\n",
    "animais_zodiaco = [\"Rato\", \"Boi\", \"Tigre\", \"Coelho\", \"Dragão\", \"Serpente\", \"Cavalo\", \"Cabra\", \"Macaco\", \"Galo\", \"Cão\", \"Porco\"]\n",
    "\n",
    "\n",
    "signo_zodiaco = animais_zodiaco[ciclo_zodiaco_chines]\n",
    "\n",
    "print(f\"Seu signo do zodíaco chinês é: {signo_zodiaco}\")\n",
    "\n",
    "\n"
   ]
  },
  {
   "cell_type": "code",
   "execution_count": null,
   "id": "4617beed",
   "metadata": {},
   "outputs": [],
   "source": []
  }
 ],
 "metadata": {
  "kernelspec": {
   "display_name": "Python 3 (ipykernel)",
   "language": "python",
   "name": "python3"
  },
  "language_info": {
   "codemirror_mode": {
    "name": "ipython",
    "version": 3
   },
   "file_extension": ".py",
   "mimetype": "text/x-python",
   "name": "python",
   "nbconvert_exporter": "python",
   "pygments_lexer": "ipython3",
   "version": "3.11.5"
  }
 },
 "nbformat": 4,
 "nbformat_minor": 5
}
