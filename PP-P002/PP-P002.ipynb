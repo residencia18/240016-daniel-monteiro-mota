{
 "cells": [
  {
   "cell_type": "markdown",
   "id": "8fb8c102",
   "metadata": {},
   "source": [
    "### Exercício 1: Utilizando estruturas de controle de fluxo e listas.\n"
   ]
  },
  {
   "cell_type": "code",
   "execution_count": 3,
   "id": "041cb4f9",
   "metadata": {},
   "outputs": [
    {
     "name": "stdout",
     "output_type": "stream",
     "text": [
      "\n",
      "===== ToDoList App =====\n",
      "1. Listar Tarefas\n",
      "2. Adicionar Tarefa\n",
      "3. Marcar Tarefa como Realizada\n",
      "4. Editar Tarefa\n",
      "0. Sair\n",
      "Escolha uma opção: 0\n",
      "Saindo do aplicativo. Até mais!\n"
     ]
    }
   ],
   "source": [
    "tarefas = []\n",
    "\n",
    "def listar_tarefas():\n",
    "    print(\"Lista de Tarefas:\")\n",
    "    for i, tarefa in enumerate(tarefas, start=1):\n",
    "        print(f\"{i}. {tarefa}\")\n",
    "\n",
    "def adicionar_tarefa():\n",
    "    descricao = input(\"Digite a descrição da nova tarefa: \").capitalize()\n",
    "    nova_tarefa = f\"{len(tarefas) + 1}.{descricao} [ ]\"\n",
    "    tarefas.append(nova_tarefa)\n",
    "    print(\"Tarefa registrada!!!\")\n",
    "\n",
    "def marcar_tarefa_realizada():\n",
    "    listar_tarefas()\n",
    "    id_tarefa = int(input(\"Digite o ID da tarefa a ser marcada como realizada: \"))\n",
    "    if 1 <= id_tarefa <= len(tarefas):\n",
    "        tarefa = tarefas.pop(id_tarefa - 1)\n",
    "        tarefas.insert(0, tarefa.replace(\"[ ]\", \"[x]\"))\n",
    "        print(\"Tarefa marcada como realizada!!!\")\n",
    "    else:\n",
    "        print(\"ID de tarefa inválido ou tarefa já realizada.\")\n",
    "\n",
    "def editar_tarefa():\n",
    "    listar_tarefas()\n",
    "    id_tarefa = int(input(\"Digite o ID da tarefa a ser editada: \"))\n",
    "    if 1 <= id_tarefa <= len(tarefas):\n",
    "        nova_descricao = input(\"Digite a nova descrição da tarefa: \").capitalize()\n",
    "        tarefas[id_tarefa - 1] = f\"{id_tarefa}.{nova_descricao} {tarefas[id_tarefa - 1][-4:]}\"\n",
    "        print(\"Tarefa editada com sucesso!!!\")\n",
    "    else:\n",
    "        print(\"ID de tarefa inválido.\")\n",
    "\n",
    "while True:\n",
    "    print(\"\\n===== ToDoList App =====\")\n",
    "    print(\"1. Listar Tarefas\")\n",
    "    print(\"2. Adicionar Tarefa\")\n",
    "    print(\"3. Marcar Tarefa como Realizada\")\n",
    "    print(\"4. Editar Tarefa\")\n",
    "    print(\"0. Sair\")\n",
    "\n",
    "    opcao = input(\"Escolha uma opção: \")\n",
    "\n",
    "    if opcao == \"1\":\n",
    "        listar_tarefas()\n",
    "    elif opcao == \"2\":\n",
    "        adicionar_tarefa()\n",
    "    elif opcao == \"3\":\n",
    "        marcar_tarefa_realizada()\n",
    "    elif opcao == \"4\":\n",
    "        editar_tarefa()\n",
    "    elif opcao == \"0\":\n",
    "        print(\"Saindo do aplicativo. Até mais!\")\n",
    "        break\n",
    "    else:\n",
    "        print(\"Opção inválida. Tente novamente.\")\n"
   ]
  },
  {
   "cell_type": "markdown",
   "id": "4872aa2c",
   "metadata": {},
   "source": [
    "### Exercício 2: Pesquisa sobre persistência de dados.\n"
   ]
  },
  {
   "cell_type": "markdown",
   "id": "23de1689",
   "metadata": {},
   "source": [
    "#### Resposta: \n",
    "\n",
    "Para modificar o aplicativo do exercício anterior, a fim de utilizar um arquivo para armazenar a lista de tarefas, podemos adicionar funções para carregar e salvar a lista de tarefas em um arquivo. Pesquisando e buscando compreender juntamente as ferramentas disponíveis na internet, poderíamos incorporar ao código uma abordagem, como exemplificado a seguir:"
   ]
  },
  {
   "cell_type": "code",
   "execution_count": null,
   "id": "0aa7386c",
   "metadata": {},
   "outputs": [
    {
     "name": "stdout",
     "output_type": "stream",
     "text": [
      "Escolha uma opção: 1\n",
      "Lista de Tarefas:\n",
      "Escolha uma opção: 2\n",
      "Digite a descrição da nova tarefa: Fazer Arroz\n",
      "Tarefa registrada!!!\n",
      "Escolha uma opção: 2\n",
      "Digite a descrição da nova tarefa: Comprar pão\n",
      "Tarefa registrada!!!\n",
      "Escolha uma opção: 3\n",
      "Lista de Tarefas:\n",
      "1. 1.Fazer arroz [ ]\n",
      "2. 2.Comprar pão [ ]\n",
      "Digite o ID da tarefa a ser marcada como realizada: 2\n",
      "Tarefa marcada como realizada!!!\n"
     ]
    }
   ],
   "source": [
    "import os\n",
    "\n",
    "ARQUIVO_TAREFAS = \"tarefas.txt\"\n",
    "\n",
    "def carregar_tarefas():\n",
    "    if os.path.exists(ARQUIVO_TAREFAS):\n",
    "        with open(ARQUIVO_TAREFAS, \"r\") as arquivo:\n",
    "            return [linha.strip() for linha in arquivo.readlines()]\n",
    "    else:\n",
    "        return []\n",
    "\n",
    "def salvar_tarefas():\n",
    "    with open(ARQUIVO_TAREFAS, \"w\") as arquivo:\n",
    "        for tarefa in tarefas:\n",
    "            arquivo.write(f\"{tarefa}\\n\")\n",
    "\n",
    "tarefas = carregar_tarefas()\n",
    "\n",
    "# Restante do código permanece o mesmo, precisando modificar o while para uso das funções pelo usuario. \n",
    "\n",
    "\n",
    "while True:\n",
    "    \n",
    "    opcao = input(\"Escolha uma opção: \")\n",
    "\n",
    "    if opcao == \"1\":\n",
    "        listar_tarefas()\n",
    "    elif opcao == \"2\":\n",
    "        adicionar_tarefa()\n",
    "        salvar_tarefas() \n",
    "    elif opcao == \"3\":\n",
    "        marcar_tarefa_realizada()\n",
    "        salvar_tarefas() \n",
    "    elif opcao == \"4\":\n",
    "        editar_tarefa()\n",
    "        salvar_tarefas() \n",
    "    elif opcao == \"0\":\n",
    "        print(\"Saindo do aplicativo. Até mais!\")\n",
    "        salvar_tarefas() \n",
    "        break\n",
    "    else:\n",
    "        print(\"Opção inválida. Tente novamente.\")\n"
   ]
  },
  {
   "cell_type": "code",
   "execution_count": null,
   "id": "3abe586d",
   "metadata": {},
   "outputs": [],
   "source": []
  }
 ],
 "metadata": {
  "kernelspec": {
   "display_name": "Python 3 (ipykernel)",
   "language": "python",
   "name": "python3"
  },
  "language_info": {
   "codemirror_mode": {
    "name": "ipython",
    "version": 3
   },
   "file_extension": ".py",
   "mimetype": "text/x-python",
   "name": "python",
   "nbconvert_exporter": "python",
   "pygments_lexer": "ipython3",
   "version": "3.11.5"
  }
 },
 "nbformat": 4,
 "nbformat_minor": 5
}
